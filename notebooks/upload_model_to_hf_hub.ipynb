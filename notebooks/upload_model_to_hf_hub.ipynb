{
 "cells": [
  {
   "cell_type": "code",
   "execution_count": null,
   "id": "initial_id",
   "metadata": {
    "collapsed": true
   },
   "outputs": [],
   "source": [
    ""
   ]
  },
  {
   "metadata": {
    "ExecuteTime": {
     "end_time": "2025-03-09T17:41:48.752092Z",
     "start_time": "2025-03-09T17:41:48.742560Z"
    }
   },
   "cell_type": "code",
   "source": [
    "import json\n",
    "\n",
    "config = {\n",
    "    \"num_channels\": 2048,\n",
    "    \"num_freq_bands\": 6,\n",
    "    \"max_freq\": 10,\n",
    "    \"enc_layers\": 1,\n",
    "    \"num_queries\": 100,\n",
    "    \"hidden_dim\": 256,\n",
    "    \"enc_nheads_cross\": 8,\n",
    "    \"nheads\": 1,\n",
    "    \"dropout\": 0,\n",
    "    \"self_per_cross_attn\": 8,\n",
    "    \"num_classes\": 91\n",
    "}\n",
    "\n",
    "with open(\"../de_perceiver_r50/config.json\", \"w\") as f:\n",
    "    json.dump(config, f)"
   ],
   "id": "9b37bf86bb567463",
   "outputs": [],
   "execution_count": 1
  },
  {
   "metadata": {
    "ExecuteTime": {
     "end_time": "2025-03-09T17:53:53.391681Z",
     "start_time": "2025-03-09T17:53:52.247047Z"
    }
   },
   "cell_type": "code",
   "source": [
    "import torch\n",
    "import sys\n",
    "\n",
    "sys.path.append('../checkpoints/')\n",
    "\n",
    "from modeling_detection_perceiver import build_model\n",
    "\n",
    "resume = '../de_perceiver_r50/checkpoint0149.pth'\n",
    "checkpoint = torch.load(resume, map_location='cpu')\n",
    "\n",
    "with open('../de_perceiver_r50/config.json', 'r') as file:\n",
    "    config = json.load(file)\n",
    "\n",
    "# Read json\n",
    "\n",
    "model = build_model(config)\n",
    "\n",
    "model.load_state_dict(checkpoint)\n",
    "\n",
    "torch.save(model.state_dict(), \"../de_perceiver_r50/detection_perceiver_model_weights_pytorch.bin\")  # From your trained model\n"
   ],
   "id": "cf9b7cd5af2019e7",
   "outputs": [
    {
     "data": {
      "text/plain": [
       "<All keys matched successfully>"
      ]
     },
     "execution_count": 3,
     "metadata": {},
     "output_type": "execute_result"
    }
   ],
   "execution_count": 3
  },
  {
   "metadata": {
    "ExecuteTime": {
     "end_time": "2025-03-10T09:17:08.774720Z",
     "start_time": "2025-03-10T09:17:04.189142Z"
    }
   },
   "cell_type": "code",
   "source": [
    "from huggingface_hub import HfApi\n",
    "\n",
    "api = HfApi(token=\"TODO\")\n",
    "\n",
    "# Upload entire folder\n",
    "api.upload_folder(\n",
    "    folder_path=\"../de_perceiver_r50\",  # Path to your folder\n",
    "    path_in_repo=\".\",                  # Root of the HF repo\n",
    "    repo_id=\"Max-Ploter/DePerceiver\",  # Example: \"john-doe/perceiver-detection\"\n",
    "    repo_type=\"model\",\n",
    "    allow_patterns=[\"*.bin\", \"*.json\", \"*.py\", \"*.md\"]  # Include all files\n",
    ")"
   ],
   "id": "422df63024609444",
   "outputs": [
    {
     "ename": "HfHubHTTPError",
     "evalue": "401 Client Error: Unauthorized for url: https://huggingface.co/api/models/Max-Ploter/DePerceiver/preupload/main (Request ID: Root=1-67ceae12-0d182cef452b969e5984ca77;d77d39d7-35fd-4faf-9516-62bb118881f9)\n\nInvalid credentials in Authorization header",
     "output_type": "error",
     "traceback": [
      "\u001B[0;31m---------------------------------------------------------------------------\u001B[0m",
      "\u001B[0;31mHTTPError\u001B[0m                                 Traceback (most recent call last)",
      "File \u001B[0;32m~/miniconda3/envs/de_perceiver/lib/python3.11/site-packages/huggingface_hub/utils/_http.py:409\u001B[0m, in \u001B[0;36mhf_raise_for_status\u001B[0;34m(response, endpoint_name)\u001B[0m\n\u001B[1;32m    408\u001B[0m \u001B[38;5;28;01mtry\u001B[39;00m:\n\u001B[0;32m--> 409\u001B[0m     response\u001B[38;5;241m.\u001B[39mraise_for_status()\n\u001B[1;32m    410\u001B[0m \u001B[38;5;28;01mexcept\u001B[39;00m HTTPError \u001B[38;5;28;01mas\u001B[39;00m e:\n",
      "File \u001B[0;32m~/miniconda3/envs/de_perceiver/lib/python3.11/site-packages/requests/models.py:1024\u001B[0m, in \u001B[0;36mResponse.raise_for_status\u001B[0;34m(self)\u001B[0m\n\u001B[1;32m   1023\u001B[0m \u001B[38;5;28;01mif\u001B[39;00m http_error_msg:\n\u001B[0;32m-> 1024\u001B[0m     \u001B[38;5;28;01mraise\u001B[39;00m HTTPError(http_error_msg, response\u001B[38;5;241m=\u001B[39m\u001B[38;5;28mself\u001B[39m)\n",
      "\u001B[0;31mHTTPError\u001B[0m: 401 Client Error: Unauthorized for url: https://huggingface.co/api/models/Max-Ploter/DePerceiver/preupload/main",
      "\nThe above exception was the direct cause of the following exception:\n",
      "\u001B[0;31mHfHubHTTPError\u001B[0m                            Traceback (most recent call last)",
      "Cell \u001B[0;32mIn[1], line 6\u001B[0m\n\u001B[1;32m      3\u001B[0m api \u001B[38;5;241m=\u001B[39m HfApi(token\u001B[38;5;241m=\u001B[39m\u001B[38;5;124m\"\u001B[39m\u001B[38;5;124mTODO\u001B[39m\u001B[38;5;124m\"\u001B[39m)\n\u001B[1;32m      5\u001B[0m \u001B[38;5;66;03m# Upload entire folder\u001B[39;00m\n\u001B[0;32m----> 6\u001B[0m api\u001B[38;5;241m.\u001B[39mupload_folder(\n\u001B[1;32m      7\u001B[0m     folder_path\u001B[38;5;241m=\u001B[39m\u001B[38;5;124m\"\u001B[39m\u001B[38;5;124m../de_perceiver_r50\u001B[39m\u001B[38;5;124m\"\u001B[39m,  \u001B[38;5;66;03m# Path to your folder\u001B[39;00m\n\u001B[1;32m      8\u001B[0m     path_in_repo\u001B[38;5;241m=\u001B[39m\u001B[38;5;124m\"\u001B[39m\u001B[38;5;124m.\u001B[39m\u001B[38;5;124m\"\u001B[39m,                  \u001B[38;5;66;03m# Root of the HF repo\u001B[39;00m\n\u001B[1;32m      9\u001B[0m     repo_id\u001B[38;5;241m=\u001B[39m\u001B[38;5;124m\"\u001B[39m\u001B[38;5;124mMax-Ploter/DePerceiver\u001B[39m\u001B[38;5;124m\"\u001B[39m,  \u001B[38;5;66;03m# Example: \"john-doe/perceiver-detection\"\u001B[39;00m\n\u001B[1;32m     10\u001B[0m     repo_type\u001B[38;5;241m=\u001B[39m\u001B[38;5;124m\"\u001B[39m\u001B[38;5;124mmodel\u001B[39m\u001B[38;5;124m\"\u001B[39m,\n\u001B[1;32m     11\u001B[0m     allow_patterns\u001B[38;5;241m=\u001B[39m[\u001B[38;5;124m\"\u001B[39m\u001B[38;5;124m*.bin\u001B[39m\u001B[38;5;124m\"\u001B[39m, \u001B[38;5;124m\"\u001B[39m\u001B[38;5;124m*.json\u001B[39m\u001B[38;5;124m\"\u001B[39m, \u001B[38;5;124m\"\u001B[39m\u001B[38;5;124m*.py\u001B[39m\u001B[38;5;124m\"\u001B[39m, \u001B[38;5;124m\"\u001B[39m\u001B[38;5;124m*.md\u001B[39m\u001B[38;5;124m\"\u001B[39m]  \u001B[38;5;66;03m# Include all files\u001B[39;00m\n\u001B[1;32m     12\u001B[0m )\n",
      "File \u001B[0;32m~/miniconda3/envs/de_perceiver/lib/python3.11/site-packages/huggingface_hub/utils/_validators.py:114\u001B[0m, in \u001B[0;36mvalidate_hf_hub_args.<locals>._inner_fn\u001B[0;34m(*args, **kwargs)\u001B[0m\n\u001B[1;32m    111\u001B[0m \u001B[38;5;28;01mif\u001B[39;00m check_use_auth_token:\n\u001B[1;32m    112\u001B[0m     kwargs \u001B[38;5;241m=\u001B[39m smoothly_deprecate_use_auth_token(fn_name\u001B[38;5;241m=\u001B[39mfn\u001B[38;5;241m.\u001B[39m\u001B[38;5;18m__name__\u001B[39m, has_token\u001B[38;5;241m=\u001B[39mhas_token, kwargs\u001B[38;5;241m=\u001B[39mkwargs)\n\u001B[0;32m--> 114\u001B[0m \u001B[38;5;28;01mreturn\u001B[39;00m fn(\u001B[38;5;241m*\u001B[39margs, \u001B[38;5;241m*\u001B[39m\u001B[38;5;241m*\u001B[39mkwargs)\n",
      "File \u001B[0;32m~/miniconda3/envs/de_perceiver/lib/python3.11/site-packages/huggingface_hub/hf_api.py:1551\u001B[0m, in \u001B[0;36mfuture_compatible.<locals>._inner\u001B[0;34m(self, *args, **kwargs)\u001B[0m\n\u001B[1;32m   1548\u001B[0m     \u001B[38;5;28;01mreturn\u001B[39;00m \u001B[38;5;28mself\u001B[39m\u001B[38;5;241m.\u001B[39mrun_as_future(fn, \u001B[38;5;28mself\u001B[39m, \u001B[38;5;241m*\u001B[39margs, \u001B[38;5;241m*\u001B[39m\u001B[38;5;241m*\u001B[39mkwargs)\n\u001B[1;32m   1550\u001B[0m \u001B[38;5;66;03m# Otherwise, call the function normally\u001B[39;00m\n\u001B[0;32m-> 1551\u001B[0m \u001B[38;5;28;01mreturn\u001B[39;00m fn(\u001B[38;5;28mself\u001B[39m, \u001B[38;5;241m*\u001B[39margs, \u001B[38;5;241m*\u001B[39m\u001B[38;5;241m*\u001B[39mkwargs)\n",
      "File \u001B[0;32m~/miniconda3/envs/de_perceiver/lib/python3.11/site-packages/huggingface_hub/hf_api.py:4707\u001B[0m, in \u001B[0;36mHfApi.upload_folder\u001B[0;34m(self, repo_id, folder_path, path_in_repo, commit_message, commit_description, token, repo_type, revision, create_pr, parent_commit, allow_patterns, ignore_patterns, delete_patterns, run_as_future)\u001B[0m\n\u001B[1;32m   4703\u001B[0m commit_operations \u001B[38;5;241m=\u001B[39m delete_operations \u001B[38;5;241m+\u001B[39m add_operations\n\u001B[1;32m   4705\u001B[0m commit_message \u001B[38;5;241m=\u001B[39m commit_message \u001B[38;5;129;01mor\u001B[39;00m \u001B[38;5;124m\"\u001B[39m\u001B[38;5;124mUpload folder using huggingface_hub\u001B[39m\u001B[38;5;124m\"\u001B[39m\n\u001B[0;32m-> 4707\u001B[0m commit_info \u001B[38;5;241m=\u001B[39m \u001B[38;5;28mself\u001B[39m\u001B[38;5;241m.\u001B[39mcreate_commit(\n\u001B[1;32m   4708\u001B[0m     repo_type\u001B[38;5;241m=\u001B[39mrepo_type,\n\u001B[1;32m   4709\u001B[0m     repo_id\u001B[38;5;241m=\u001B[39mrepo_id,\n\u001B[1;32m   4710\u001B[0m     operations\u001B[38;5;241m=\u001B[39mcommit_operations,\n\u001B[1;32m   4711\u001B[0m     commit_message\u001B[38;5;241m=\u001B[39mcommit_message,\n\u001B[1;32m   4712\u001B[0m     commit_description\u001B[38;5;241m=\u001B[39mcommit_description,\n\u001B[1;32m   4713\u001B[0m     token\u001B[38;5;241m=\u001B[39mtoken,\n\u001B[1;32m   4714\u001B[0m     revision\u001B[38;5;241m=\u001B[39mrevision,\n\u001B[1;32m   4715\u001B[0m     create_pr\u001B[38;5;241m=\u001B[39mcreate_pr,\n\u001B[1;32m   4716\u001B[0m     parent_commit\u001B[38;5;241m=\u001B[39mparent_commit,\n\u001B[1;32m   4717\u001B[0m )\n\u001B[1;32m   4719\u001B[0m \u001B[38;5;66;03m# Create url to uploaded folder (for legacy return value)\u001B[39;00m\n\u001B[1;32m   4720\u001B[0m \u001B[38;5;28;01mif\u001B[39;00m create_pr \u001B[38;5;129;01mand\u001B[39;00m commit_info\u001B[38;5;241m.\u001B[39mpr_url \u001B[38;5;129;01mis\u001B[39;00m \u001B[38;5;129;01mnot\u001B[39;00m \u001B[38;5;28;01mNone\u001B[39;00m:\n",
      "File \u001B[0;32m~/miniconda3/envs/de_perceiver/lib/python3.11/site-packages/huggingface_hub/utils/_validators.py:114\u001B[0m, in \u001B[0;36mvalidate_hf_hub_args.<locals>._inner_fn\u001B[0;34m(*args, **kwargs)\u001B[0m\n\u001B[1;32m    111\u001B[0m \u001B[38;5;28;01mif\u001B[39;00m check_use_auth_token:\n\u001B[1;32m    112\u001B[0m     kwargs \u001B[38;5;241m=\u001B[39m smoothly_deprecate_use_auth_token(fn_name\u001B[38;5;241m=\u001B[39mfn\u001B[38;5;241m.\u001B[39m\u001B[38;5;18m__name__\u001B[39m, has_token\u001B[38;5;241m=\u001B[39mhas_token, kwargs\u001B[38;5;241m=\u001B[39mkwargs)\n\u001B[0;32m--> 114\u001B[0m \u001B[38;5;28;01mreturn\u001B[39;00m fn(\u001B[38;5;241m*\u001B[39margs, \u001B[38;5;241m*\u001B[39m\u001B[38;5;241m*\u001B[39mkwargs)\n",
      "File \u001B[0;32m~/miniconda3/envs/de_perceiver/lib/python3.11/site-packages/huggingface_hub/hf_api.py:1551\u001B[0m, in \u001B[0;36mfuture_compatible.<locals>._inner\u001B[0;34m(self, *args, **kwargs)\u001B[0m\n\u001B[1;32m   1548\u001B[0m     \u001B[38;5;28;01mreturn\u001B[39;00m \u001B[38;5;28mself\u001B[39m\u001B[38;5;241m.\u001B[39mrun_as_future(fn, \u001B[38;5;28mself\u001B[39m, \u001B[38;5;241m*\u001B[39margs, \u001B[38;5;241m*\u001B[39m\u001B[38;5;241m*\u001B[39mkwargs)\n\u001B[1;32m   1550\u001B[0m \u001B[38;5;66;03m# Otherwise, call the function normally\u001B[39;00m\n\u001B[0;32m-> 1551\u001B[0m \u001B[38;5;28;01mreturn\u001B[39;00m fn(\u001B[38;5;28mself\u001B[39m, \u001B[38;5;241m*\u001B[39margs, \u001B[38;5;241m*\u001B[39m\u001B[38;5;241m*\u001B[39mkwargs)\n",
      "File \u001B[0;32m~/miniconda3/envs/de_perceiver/lib/python3.11/site-packages/huggingface_hub/hf_api.py:3991\u001B[0m, in \u001B[0;36mHfApi.create_commit\u001B[0;34m(self, repo_id, operations, commit_message, commit_description, token, repo_type, revision, create_pr, num_threads, parent_commit, run_as_future)\u001B[0m\n\u001B[1;32m   3988\u001B[0m \u001B[38;5;66;03m# If updating twice the same file or update then delete a file in a single commit\u001B[39;00m\n\u001B[1;32m   3989\u001B[0m _warn_on_overwriting_operations(operations)\n\u001B[0;32m-> 3991\u001B[0m \u001B[38;5;28mself\u001B[39m\u001B[38;5;241m.\u001B[39mpreupload_lfs_files(\n\u001B[1;32m   3992\u001B[0m     repo_id\u001B[38;5;241m=\u001B[39mrepo_id,\n\u001B[1;32m   3993\u001B[0m     additions\u001B[38;5;241m=\u001B[39madditions,\n\u001B[1;32m   3994\u001B[0m     token\u001B[38;5;241m=\u001B[39mtoken,\n\u001B[1;32m   3995\u001B[0m     repo_type\u001B[38;5;241m=\u001B[39mrepo_type,\n\u001B[1;32m   3996\u001B[0m     revision\u001B[38;5;241m=\u001B[39munquoted_revision,  \u001B[38;5;66;03m# first-class methods take unquoted revision\u001B[39;00m\n\u001B[1;32m   3997\u001B[0m     create_pr\u001B[38;5;241m=\u001B[39mcreate_pr,\n\u001B[1;32m   3998\u001B[0m     num_threads\u001B[38;5;241m=\u001B[39mnum_threads,\n\u001B[1;32m   3999\u001B[0m     free_memory\u001B[38;5;241m=\u001B[39m\u001B[38;5;28;01mFalse\u001B[39;00m,  \u001B[38;5;66;03m# do not remove `CommitOperationAdd.path_or_fileobj` on LFS files for \"normal\" users\u001B[39;00m\n\u001B[1;32m   4000\u001B[0m )\n\u001B[1;32m   4002\u001B[0m files_to_copy \u001B[38;5;241m=\u001B[39m _fetch_files_to_copy(\n\u001B[1;32m   4003\u001B[0m     copies\u001B[38;5;241m=\u001B[39mcopies,\n\u001B[1;32m   4004\u001B[0m     repo_type\u001B[38;5;241m=\u001B[39mrepo_type,\n\u001B[0;32m   (...)\u001B[0m\n\u001B[1;32m   4008\u001B[0m     endpoint\u001B[38;5;241m=\u001B[39m\u001B[38;5;28mself\u001B[39m\u001B[38;5;241m.\u001B[39mendpoint,\n\u001B[1;32m   4009\u001B[0m )\n\u001B[1;32m   4010\u001B[0m \u001B[38;5;66;03m# Remove no-op operations (files that have not changed)\u001B[39;00m\n",
      "File \u001B[0;32m~/miniconda3/envs/de_perceiver/lib/python3.11/site-packages/huggingface_hub/hf_api.py:4214\u001B[0m, in \u001B[0;36mHfApi.preupload_lfs_files\u001B[0;34m(self, repo_id, additions, token, repo_type, revision, create_pr, num_threads, free_memory, gitignore_content)\u001B[0m\n\u001B[1;32m   4212\u001B[0m \u001B[38;5;66;03m# Check which new files are LFS\u001B[39;00m\n\u001B[1;32m   4213\u001B[0m \u001B[38;5;28;01mtry\u001B[39;00m:\n\u001B[0;32m-> 4214\u001B[0m     _fetch_upload_modes(\n\u001B[1;32m   4215\u001B[0m         additions\u001B[38;5;241m=\u001B[39mnew_additions,\n\u001B[1;32m   4216\u001B[0m         repo_type\u001B[38;5;241m=\u001B[39mrepo_type,\n\u001B[1;32m   4217\u001B[0m         repo_id\u001B[38;5;241m=\u001B[39mrepo_id,\n\u001B[1;32m   4218\u001B[0m         headers\u001B[38;5;241m=\u001B[39mheaders,\n\u001B[1;32m   4219\u001B[0m         revision\u001B[38;5;241m=\u001B[39mrevision,\n\u001B[1;32m   4220\u001B[0m         endpoint\u001B[38;5;241m=\u001B[39m\u001B[38;5;28mself\u001B[39m\u001B[38;5;241m.\u001B[39mendpoint,\n\u001B[1;32m   4221\u001B[0m         create_pr\u001B[38;5;241m=\u001B[39mcreate_pr \u001B[38;5;129;01mor\u001B[39;00m \u001B[38;5;28;01mFalse\u001B[39;00m,\n\u001B[1;32m   4222\u001B[0m         gitignore_content\u001B[38;5;241m=\u001B[39mgitignore_content,\n\u001B[1;32m   4223\u001B[0m     )\n\u001B[1;32m   4224\u001B[0m \u001B[38;5;28;01mexcept\u001B[39;00m RepositoryNotFoundError \u001B[38;5;28;01mas\u001B[39;00m e:\n\u001B[1;32m   4225\u001B[0m     e\u001B[38;5;241m.\u001B[39mappend_to_message(_CREATE_COMMIT_NO_REPO_ERROR_MESSAGE)\n",
      "File \u001B[0;32m~/miniconda3/envs/de_perceiver/lib/python3.11/site-packages/huggingface_hub/utils/_validators.py:114\u001B[0m, in \u001B[0;36mvalidate_hf_hub_args.<locals>._inner_fn\u001B[0;34m(*args, **kwargs)\u001B[0m\n\u001B[1;32m    111\u001B[0m \u001B[38;5;28;01mif\u001B[39;00m check_use_auth_token:\n\u001B[1;32m    112\u001B[0m     kwargs \u001B[38;5;241m=\u001B[39m smoothly_deprecate_use_auth_token(fn_name\u001B[38;5;241m=\u001B[39mfn\u001B[38;5;241m.\u001B[39m\u001B[38;5;18m__name__\u001B[39m, has_token\u001B[38;5;241m=\u001B[39mhas_token, kwargs\u001B[38;5;241m=\u001B[39mkwargs)\n\u001B[0;32m--> 114\u001B[0m \u001B[38;5;28;01mreturn\u001B[39;00m fn(\u001B[38;5;241m*\u001B[39margs, \u001B[38;5;241m*\u001B[39m\u001B[38;5;241m*\u001B[39mkwargs)\n",
      "File \u001B[0;32m~/miniconda3/envs/de_perceiver/lib/python3.11/site-packages/huggingface_hub/_commit_api.py:542\u001B[0m, in \u001B[0;36m_fetch_upload_modes\u001B[0;34m(additions, repo_type, repo_id, headers, revision, endpoint, create_pr, gitignore_content)\u001B[0m\n\u001B[1;32m    534\u001B[0m     payload[\u001B[38;5;124m\"\u001B[39m\u001B[38;5;124mgitIgnore\u001B[39m\u001B[38;5;124m\"\u001B[39m] \u001B[38;5;241m=\u001B[39m gitignore_content\n\u001B[1;32m    536\u001B[0m resp \u001B[38;5;241m=\u001B[39m get_session()\u001B[38;5;241m.\u001B[39mpost(\n\u001B[1;32m    537\u001B[0m     \u001B[38;5;124mf\u001B[39m\u001B[38;5;124m\"\u001B[39m\u001B[38;5;132;01m{\u001B[39;00mendpoint\u001B[38;5;132;01m}\u001B[39;00m\u001B[38;5;124m/api/\u001B[39m\u001B[38;5;132;01m{\u001B[39;00mrepo_type\u001B[38;5;132;01m}\u001B[39;00m\u001B[38;5;124ms/\u001B[39m\u001B[38;5;132;01m{\u001B[39;00mrepo_id\u001B[38;5;132;01m}\u001B[39;00m\u001B[38;5;124m/preupload/\u001B[39m\u001B[38;5;132;01m{\u001B[39;00mrevision\u001B[38;5;132;01m}\u001B[39;00m\u001B[38;5;124m\"\u001B[39m,\n\u001B[1;32m    538\u001B[0m     json\u001B[38;5;241m=\u001B[39mpayload,\n\u001B[1;32m    539\u001B[0m     headers\u001B[38;5;241m=\u001B[39mheaders,\n\u001B[1;32m    540\u001B[0m     params\u001B[38;5;241m=\u001B[39m{\u001B[38;5;124m\"\u001B[39m\u001B[38;5;124mcreate_pr\u001B[39m\u001B[38;5;124m\"\u001B[39m: \u001B[38;5;124m\"\u001B[39m\u001B[38;5;124m1\u001B[39m\u001B[38;5;124m\"\u001B[39m} \u001B[38;5;28;01mif\u001B[39;00m create_pr \u001B[38;5;28;01melse\u001B[39;00m \u001B[38;5;28;01mNone\u001B[39;00m,\n\u001B[1;32m    541\u001B[0m )\n\u001B[0;32m--> 542\u001B[0m hf_raise_for_status(resp)\n\u001B[1;32m    543\u001B[0m preupload_info \u001B[38;5;241m=\u001B[39m _validate_preupload_info(resp\u001B[38;5;241m.\u001B[39mjson())\n\u001B[1;32m    544\u001B[0m upload_modes\u001B[38;5;241m.\u001B[39mupdate(\u001B[38;5;241m*\u001B[39m\u001B[38;5;241m*\u001B[39m{file[\u001B[38;5;124m\"\u001B[39m\u001B[38;5;124mpath\u001B[39m\u001B[38;5;124m\"\u001B[39m]: file[\u001B[38;5;124m\"\u001B[39m\u001B[38;5;124muploadMode\u001B[39m\u001B[38;5;124m\"\u001B[39m] \u001B[38;5;28;01mfor\u001B[39;00m file \u001B[38;5;129;01min\u001B[39;00m preupload_info[\u001B[38;5;124m\"\u001B[39m\u001B[38;5;124mfiles\u001B[39m\u001B[38;5;124m\"\u001B[39m]})\n",
      "File \u001B[0;32m~/miniconda3/envs/de_perceiver/lib/python3.11/site-packages/huggingface_hub/utils/_http.py:481\u001B[0m, in \u001B[0;36mhf_raise_for_status\u001B[0;34m(response, endpoint_name)\u001B[0m\n\u001B[1;32m    477\u001B[0m     \u001B[38;5;28;01mraise\u001B[39;00m _format(HfHubHTTPError, message, response) \u001B[38;5;28;01mfrom\u001B[39;00m \u001B[38;5;21;01me\u001B[39;00m\n\u001B[1;32m    479\u001B[0m \u001B[38;5;66;03m# Convert `HTTPError` into a `HfHubHTTPError` to display request information\u001B[39;00m\n\u001B[1;32m    480\u001B[0m \u001B[38;5;66;03m# as well (request id and/or server error message)\u001B[39;00m\n\u001B[0;32m--> 481\u001B[0m \u001B[38;5;28;01mraise\u001B[39;00m _format(HfHubHTTPError, \u001B[38;5;28mstr\u001B[39m(e), response) \u001B[38;5;28;01mfrom\u001B[39;00m \u001B[38;5;21;01me\u001B[39;00m\n",
      "\u001B[0;31mHfHubHTTPError\u001B[0m: 401 Client Error: Unauthorized for url: https://huggingface.co/api/models/Max-Ploter/DePerceiver/preupload/main (Request ID: Root=1-67ceae12-0d182cef452b969e5984ca77;d77d39d7-35fd-4faf-9516-62bb118881f9)\n\nInvalid credentials in Authorization header"
     ]
    }
   ],
   "execution_count": 1
  },
  {
   "metadata": {},
   "cell_type": "code",
   "outputs": [],
   "execution_count": null,
   "source": "",
   "id": "6b7b44660494f9c8"
  }
 ],
 "metadata": {
  "kernelspec": {
   "display_name": "Python 3",
   "language": "python",
   "name": "python3"
  },
  "language_info": {
   "codemirror_mode": {
    "name": "ipython",
    "version": 2
   },
   "file_extension": ".py",
   "mimetype": "text/x-python",
   "name": "python",
   "nbconvert_exporter": "python",
   "pygments_lexer": "ipython2",
   "version": "2.7.6"
  }
 },
 "nbformat": 4,
 "nbformat_minor": 5
}
